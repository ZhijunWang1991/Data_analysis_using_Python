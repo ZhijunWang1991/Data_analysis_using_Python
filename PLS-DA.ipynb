{
 "cells": [
  {
   "cell_type": "code",
   "execution_count": 1,
   "metadata": {},
   "outputs": [],
   "source": [
    "## Set workspace\n",
    "import os\n",
    "os.chdir('/Data_analysis_using_Python/Opendata')"
   ]
  },
  {
   "cell_type": "code",
   "execution_count": 8,
   "metadata": {},
   "outputs": [],
   "source": [
    "import matplotlib.pyplot as plt\n",
    "import seaborn as sns\n",
    "\n",
    "from scipy.signal import savgol_filter"
   ]
  },
  {
   "cell_type": "code",
   "execution_count": 18,
   "metadata": {},
   "outputs": [],
   "source": [
    "import pandas as pd\n",
    "df = pd.read_csv(\"FTIR_Spectra_olive_oils.csv\")"
   ]
  },
  {
   "cell_type": "code",
   "execution_count": 7,
   "metadata": {},
   "outputs": [],
   "source": [
    "oil = df.values[:,4:].astype(str).astype(float)"
   ]
  },
  {
   "cell_type": "code",
   "execution_count": 6,
   "metadata": {},
   "outputs": [],
   "source": [
    "wl = pd.read_csv('wavelength.csv')"
   ]
  },
  {
   "cell_type": "code",
   "execution_count": 4,
   "metadata": {},
   "outputs": [
    {
     "data": {
      "text/html": [
       "<div>\n",
       "<style scoped>\n",
       "    .dataframe tbody tr th:only-of-type {\n",
       "        vertical-align: middle;\n",
       "    }\n",
       "\n",
       "    .dataframe tbody tr th {\n",
       "        vertical-align: top;\n",
       "    }\n",
       "\n",
       "    .dataframe thead th {\n",
       "        text-align: right;\n",
       "    }\n",
       "</style>\n",
       "<table border=\"1\" class=\"dataframe\">\n",
       "  <thead>\n",
       "    <tr style=\"text-align: right;\">\n",
       "      <th></th>\n",
       "      <th>Number</th>\n",
       "      <th>Group</th>\n",
       "      <th>Countries</th>\n",
       "      <th>808.5395</th>\n",
       "      <th>810.469</th>\n",
       "      <th>812.3985</th>\n",
       "      <th>814.328</th>\n",
       "      <th>816.2575</th>\n",
       "      <th>818.187</th>\n",
       "      <th>820.1165</th>\n",
       "      <th>...</th>\n",
       "      <th>1869.7935</th>\n",
       "      <th>1871.723</th>\n",
       "      <th>1873.6535</th>\n",
       "      <th>1875.583</th>\n",
       "      <th>1877.5125</th>\n",
       "      <th>1879.442</th>\n",
       "      <th>1881.3715</th>\n",
       "      <th>1883.301</th>\n",
       "      <th>1885.2305</th>\n",
       "      <th>1887.16</th>\n",
       "    </tr>\n",
       "  </thead>\n",
       "  <tbody>\n",
       "    <tr>\n",
       "      <th>0</th>\n",
       "      <td>1</td>\n",
       "      <td>1</td>\n",
       "      <td>Greece</td>\n",
       "      <td>0.103753</td>\n",
       "      <td>0.102204</td>\n",
       "      <td>0.092835</td>\n",
       "      <td>0.080931</td>\n",
       "      <td>0.072028</td>\n",
       "      <td>0.070530</td>\n",
       "      <td>0.075836</td>\n",
       "      <td>...</td>\n",
       "      <td>-0.001227</td>\n",
       "      <td>0.001822</td>\n",
       "      <td>0.003450</td>\n",
       "      <td>0.003179</td>\n",
       "      <td>0.002408</td>\n",
       "      <td>0.002580</td>\n",
       "      <td>0.003744</td>\n",
       "      <td>0.003461</td>\n",
       "      <td>0.002774</td>\n",
       "      <td>0.002253</td>\n",
       "    </tr>\n",
       "    <tr>\n",
       "      <th>1</th>\n",
       "      <td>1</td>\n",
       "      <td>1</td>\n",
       "      <td>Greece</td>\n",
       "      <td>0.100083</td>\n",
       "      <td>0.100176</td>\n",
       "      <td>0.092805</td>\n",
       "      <td>0.081545</td>\n",
       "      <td>0.072372</td>\n",
       "      <td>0.070033</td>\n",
       "      <td>0.075910</td>\n",
       "      <td>...</td>\n",
       "      <td>-0.000533</td>\n",
       "      <td>0.003187</td>\n",
       "      <td>0.004933</td>\n",
       "      <td>0.005599</td>\n",
       "      <td>0.005409</td>\n",
       "      <td>0.004715</td>\n",
       "      <td>0.004165</td>\n",
       "      <td>0.002345</td>\n",
       "      <td>0.000598</td>\n",
       "      <td>-0.000700</td>\n",
       "    </tr>\n",
       "    <tr>\n",
       "      <th>2</th>\n",
       "      <td>2</td>\n",
       "      <td>1</td>\n",
       "      <td>Greece</td>\n",
       "      <td>0.098488</td>\n",
       "      <td>0.095551</td>\n",
       "      <td>0.086662</td>\n",
       "      <td>0.076001</td>\n",
       "      <td>0.069760</td>\n",
       "      <td>0.070162</td>\n",
       "      <td>0.076346</td>\n",
       "      <td>...</td>\n",
       "      <td>-0.000571</td>\n",
       "      <td>0.002750</td>\n",
       "      <td>0.002734</td>\n",
       "      <td>0.002093</td>\n",
       "      <td>0.002579</td>\n",
       "      <td>0.003089</td>\n",
       "      <td>0.003454</td>\n",
       "      <td>0.003874</td>\n",
       "      <td>0.003860</td>\n",
       "      <td>0.002053</td>\n",
       "    </tr>\n",
       "    <tr>\n",
       "      <th>3</th>\n",
       "      <td>2</td>\n",
       "      <td>1</td>\n",
       "      <td>Greece</td>\n",
       "      <td>0.097094</td>\n",
       "      <td>0.094137</td>\n",
       "      <td>0.086487</td>\n",
       "      <td>0.077987</td>\n",
       "      <td>0.072729</td>\n",
       "      <td>0.072255</td>\n",
       "      <td>0.076293</td>\n",
       "      <td>...</td>\n",
       "      <td>-0.002233</td>\n",
       "      <td>0.000554</td>\n",
       "      <td>0.003724</td>\n",
       "      <td>0.004299</td>\n",
       "      <td>0.003683</td>\n",
       "      <td>0.003953</td>\n",
       "      <td>0.004128</td>\n",
       "      <td>0.002877</td>\n",
       "      <td>0.001644</td>\n",
       "      <td>0.000653</td>\n",
       "    </tr>\n",
       "    <tr>\n",
       "      <th>4</th>\n",
       "      <td>3</td>\n",
       "      <td>1</td>\n",
       "      <td>Greece</td>\n",
       "      <td>0.098733</td>\n",
       "      <td>0.097378</td>\n",
       "      <td>0.089574</td>\n",
       "      <td>0.080488</td>\n",
       "      <td>0.073952</td>\n",
       "      <td>0.072044</td>\n",
       "      <td>0.075082</td>\n",
       "      <td>...</td>\n",
       "      <td>-0.000705</td>\n",
       "      <td>0.003248</td>\n",
       "      <td>0.005718</td>\n",
       "      <td>0.005902</td>\n",
       "      <td>0.004614</td>\n",
       "      <td>0.003489</td>\n",
       "      <td>0.002996</td>\n",
       "      <td>0.001952</td>\n",
       "      <td>0.001568</td>\n",
       "      <td>0.001747</td>\n",
       "    </tr>\n",
       "  </tbody>\n",
       "</table>\n",
       "<p>5 rows × 563 columns</p>\n",
       "</div>"
      ],
      "text/plain": [
       "   Number  Group Countries  808.5395   810.469  812.3985   814.328  816.2575  \\\n",
       "0       1      1    Greece  0.103753  0.102204  0.092835  0.080931  0.072028   \n",
       "1       1      1    Greece  0.100083  0.100176  0.092805  0.081545  0.072372   \n",
       "2       2      1    Greece  0.098488  0.095551  0.086662  0.076001  0.069760   \n",
       "3       2      1    Greece  0.097094  0.094137  0.086487  0.077987  0.072729   \n",
       "4       3      1    Greece  0.098733  0.097378  0.089574  0.080488  0.073952   \n",
       "\n",
       "    818.187  820.1165  ...  1869.7935  1871.723  1873.6535  1875.583  \\\n",
       "0  0.070530  0.075836  ...  -0.001227  0.001822   0.003450  0.003179   \n",
       "1  0.070033  0.075910  ...  -0.000533  0.003187   0.004933  0.005599   \n",
       "2  0.070162  0.076346  ...  -0.000571  0.002750   0.002734  0.002093   \n",
       "3  0.072255  0.076293  ...  -0.002233  0.000554   0.003724  0.004299   \n",
       "4  0.072044  0.075082  ...  -0.000705  0.003248   0.005718  0.005902   \n",
       "\n",
       "   1877.5125  1879.442  1881.3715  1883.301  1885.2305   1887.16  \n",
       "0   0.002408  0.002580   0.003744  0.003461   0.002774  0.002253  \n",
       "1   0.005409  0.004715   0.004165  0.002345   0.000598 -0.000700  \n",
       "2   0.002579  0.003089   0.003454  0.003874   0.003860  0.002053  \n",
       "3   0.003683  0.003953   0.004128  0.002877   0.001644  0.000653  \n",
       "4   0.004614  0.003489   0.002996  0.001952   0.001568  0.001747  \n",
       "\n",
       "[5 rows x 563 columns]"
      ]
     },
     "execution_count": 4,
     "metadata": {},
     "output_type": "execute_result"
    }
   ],
   "source": [
    "df.head()"
   ]
  },
  {
   "cell_type": "code",
   "execution_count": 5,
   "metadata": {},
   "outputs": [],
   "source": [
    "##Data tranformation"
   ]
  },
  {
   "cell_type": "code",
   "execution_count": 9,
   "metadata": {},
   "outputs": [],
   "source": [
    "w = 5\n",
    "p = 2\n",
    "oil_sg = savgol_filter(oil, w, polyorder = p, deriv=1)"
   ]
  },
  {
   "cell_type": "code",
   "execution_count": 19,
   "metadata": {},
   "outputs": [],
   "source": [
    "label = df.loc[:, \"Group\"]\n",
    "data = pd.DataFrame(oil_sg)"
   ]
  },
  {
   "cell_type": "code",
   "execution_count": 11,
   "metadata": {},
   "outputs": [],
   "source": [
    "##Visualising the dataset"
   ]
  },
  {
   "cell_type": "code",
   "execution_count": 17,
   "metadata": {},
   "outputs": [
    {
     "data": {
      "image/png": "[encoded data removed]",
      "text/plain": [
       "<Figure size 576x432 with 1 Axes>"
      ]
     },
     "metadata": {
      "needs_background": "light"
     },
     "output_type": "display_data"
    }
   ],
   "source": [
    "plt.figure(figsize=(8,6))\n",
    "with plt.style.context(('ggplot')):\n",
    "    \n",
    "    plt.plot(wl, oil_sg.T)\n",
    "    plt.title('Spectra-oil')"
   ]
  },
  {
   "cell_type": "code",
   "execution_count": 21,
   "metadata": {},
   "outputs": [],
   "source": [
    "from sklearn.cross_decomposition import PLSRegression"
   ]
  },
  {
   "cell_type": "code",
   "execution_count": 28,
   "metadata": {},
   "outputs": [
    {
     "data": {
      "text/plain": [
       "PLSRegression(copy=True, max_iter=500, n_components=2, scale=False, tol=1e-06)"
      ]
     },
     "execution_count": 28,
     "metadata": {},
     "output_type": "execute_result"
    }
   ],
   "source": [
    "plsr = PLSRegression(n_components=2, scale=False) # (1)\n",
    "plsr.fit(oil_sg, label) # (2)"
   ]
  },
  {
   "cell_type": "code",
   "execution_count": 29,
   "metadata": {},
   "outputs": [
    {
     "data": {
      "text/plain": [
       "array([[-1.80993903e-02, -1.95515742e-03],\n",
       "       [-1.26252565e-02,  1.08672206e-02],\n",
       "       [-3.27813772e-02, -1.24560763e-02],\n",
       "       [-2.56237169e-02, -3.31421955e-02],\n",
       "       [-4.27179519e-02,  1.67588621e-02],\n",
       "       [-4.10869141e-02, -1.78415791e-03],\n",
       "       [-5.18857492e-02,  1.01261007e-02],\n",
       "       [-6.34295063e-02,  8.14170188e-03],\n",
       "       [-4.28095940e-02,  2.44480347e-02],\n",
       "       [-4.22125799e-02,  3.47413504e-02],\n",
       "       [-3.57685491e-02,  1.89828278e-02],\n",
       "       [-4.56082670e-02,  1.92298551e-02],\n",
       "       [-9.68252838e-03,  4.32481689e-03],\n",
       "       [-2.41340540e-02,  2.50477399e-02],\n",
       "       [-1.90883955e-02,  3.73640463e-02],\n",
       "       [-3.92659794e-02,  1.12589312e-02],\n",
       "       [-2.43254930e-02,  2.52272782e-02],\n",
       "       [-4.52965211e-02, -3.01622784e-03],\n",
       "       [-8.62472876e-02,  4.37978020e-02],\n",
       "       [-9.27226402e-02,  4.24491045e-02],\n",
       "       [-1.87096595e-02,  6.22941595e-02],\n",
       "       [-2.13865241e-02,  1.74786779e-02],\n",
       "       [-1.82382578e-02,  3.04394604e-02],\n",
       "       [ 6.30666774e-04,  3.48427787e-02],\n",
       "       [-2.37757952e-02,  4.22504469e-02],\n",
       "       [-1.38982413e-02,  3.53369401e-02],\n",
       "       [-2.33459151e-02,  4.09897720e-02],\n",
       "       [-4.27473267e-02,  1.13458244e-02],\n",
       "       [-3.62386075e-02,  3.68060354e-02],\n",
       "       [-5.05128998e-02,  3.52082313e-02],\n",
       "       [-2.20671436e-02,  4.20103344e-02],\n",
       "       [-2.19029557e-02,  1.19140873e-02],\n",
       "       [ 7.94372628e-03,  3.33969048e-02],\n",
       "       [-1.00399432e-02,  4.44488490e-02],\n",
       "       [ 4.92795200e-03,  3.68188507e-02],\n",
       "       [-3.95114987e-03,  1.82135136e-02],\n",
       "       [-4.47361327e-02,  3.81879155e-02],\n",
       "       [-5.05904656e-02,  2.55132101e-02],\n",
       "       [-5.82928807e-02,  4.05547717e-02],\n",
       "       [-6.37837483e-02,  7.62526821e-03],\n",
       "       [ 3.85714236e-03,  1.39986177e-02],\n",
       "       [-7.34352971e-03,  2.46494330e-02],\n",
       "       [-3.38601143e-02,  2.46532519e-02],\n",
       "       [-3.81511984e-02, -3.03833166e-03],\n",
       "       [-9.75850343e-02,  5.22314293e-02],\n",
       "       [-1.13793998e-01,  2.44636456e-02],\n",
       "       [-8.16384081e-02,  1.37211053e-02],\n",
       "       [-8.61642249e-02,  2.52253419e-03],\n",
       "       [-6.33028522e-02,  1.68699898e-02],\n",
       "       [-5.41270063e-02,  1.20536659e-02],\n",
       "       [-4.17605204e-02, -5.28776121e-03],\n",
       "       [-4.89544860e-02,  1.41845780e-02],\n",
       "       [-5.87918575e-02,  2.63047166e-02],\n",
       "       [-8.27046410e-02, -1.39923325e-02],\n",
       "       [ 1.43542715e-02, -1.93321792e-02],\n",
       "       [ 2.08407290e-03, -4.25765734e-02],\n",
       "       [-2.24205101e-02, -2.52848421e-02],\n",
       "       [-1.25798166e-02, -1.36241473e-02],\n",
       "       [-2.27409486e-02,  2.17809127e-03],\n",
       "       [-2.74575684e-02, -1.13404599e-02],\n",
       "       [-5.99558885e-02, -1.56220622e-01],\n",
       "       [-4.89139256e-02, -1.68538857e-01],\n",
       "       [-6.43922761e-02, -1.16374063e-01],\n",
       "       [-7.40742731e-02, -1.16647019e-01],\n",
       "       [-2.80921981e-02, -7.42204821e-03],\n",
       "       [-3.05646885e-02, -5.18728510e-03],\n",
       "       [-6.04541750e-02, -1.52206993e-01],\n",
       "       [-5.38474135e-02, -1.77416105e-01],\n",
       "       [-1.88986239e-03, -4.45640922e-03],\n",
       "       [-1.94526897e-02, -3.08081175e-02],\n",
       "       [ 4.51804981e-03, -8.43910337e-03],\n",
       "       [ 1.08144225e-02, -3.79868440e-02],\n",
       "       [ 4.35992593e-02, -1.46308665e-02],\n",
       "       [ 6.09499113e-02, -2.16548634e-02],\n",
       "       [ 7.42057586e-02,  4.87863085e-03],\n",
       "       [ 5.13409395e-02, -1.66064636e-02],\n",
       "       [ 6.42960849e-02, -2.42217775e-02],\n",
       "       [ 6.62073285e-02, -2.36539604e-02],\n",
       "       [ 7.66399228e-02,  1.99895855e-03],\n",
       "       [ 5.62966662e-02, -1.32153855e-02],\n",
       "       [ 7.77457647e-02, -3.77864476e-05],\n",
       "       [ 5.33674635e-02,  9.30715082e-03],\n",
       "       [ 5.51649144e-02, -9.68112350e-04],\n",
       "       [ 5.73443773e-02, -2.58692309e-02],\n",
       "       [ 6.01562460e-02, -1.80076640e-02],\n",
       "       [ 6.71802331e-02, -2.73235927e-02],\n",
       "       [ 5.16859584e-02, -3.11488290e-03],\n",
       "       [ 5.65562436e-02,  4.16797443e-03],\n",
       "       [ 7.05422250e-02,  5.32196155e-03],\n",
       "       [ 5.24280691e-02, -2.77248830e-02],\n",
       "       [ 5.04030249e-02,  5.18688123e-03],\n",
       "       [ 5.08914364e-02,  3.62054727e-03],\n",
       "       [ 8.10065900e-02, -6.50146573e-03],\n",
       "       [ 6.71883207e-02, -1.13869508e-02],\n",
       "       [ 6.01990086e-02,  2.67335536e-03],\n",
       "       [ 5.04027582e-02, -3.37914872e-02],\n",
       "       [ 7.86857694e-02, -6.52416379e-03],\n",
       "       [ 6.54893707e-02, -1.92804598e-02],\n",
       "       [ 5.28455001e-02, -5.30606740e-03],\n",
       "       [ 6.57625778e-02,  2.33191281e-02],\n",
       "       [ 7.40594060e-02,  5.15256749e-03],\n",
       "       [ 7.48454181e-02, -5.46159214e-03],\n",
       "       [ 7.19466131e-02,  1.15844064e-02],\n",
       "       [ 6.26136354e-02, -1.70411823e-02],\n",
       "       [ 8.18210364e-02, -1.22489315e-03],\n",
       "       [ 6.60859166e-02,  1.45797335e-02],\n",
       "       [ 6.96275595e-02,  1.32298821e-02],\n",
       "       [ 7.61299867e-02, -9.56807970e-03],\n",
       "       [ 6.74846771e-02,  1.55883559e-02],\n",
       "       [ 7.46504483e-02, -2.63831711e-03],\n",
       "       [ 7.61366190e-02,  1.33506207e-02],\n",
       "       [ 6.05197099e-02,  5.63469144e-03],\n",
       "       [ 5.06245058e-02,  1.54602222e-02],\n",
       "       [ 5.56520099e-02,  1.07601709e-02],\n",
       "       [ 7.96821863e-02,  3.59271826e-02],\n",
       "       [ 6.90051871e-02,  1.53287858e-02],\n",
       "       [-7.87901007e-02,  3.57152117e-02],\n",
       "       [-7.27882357e-02,  2.72455466e-02],\n",
       "       [-2.84835298e-02,  8.14613775e-03],\n",
       "       [-4.38915724e-02,  9.83717064e-03]])"
      ]
     },
     "execution_count": 29,
     "metadata": {},
     "output_type": "execute_result"
    }
   ],
   "source": [
    "plsr.x_scores_"
   ]
  },
  {
   "cell_type": "code",
   "execution_count": 30,
   "metadata": {},
   "outputs": [
    {
     "data": {
      "text/plain": [
       "(559, 2)"
      ]
     },
     "execution_count": 30,
     "metadata": {},
     "output_type": "execute_result"
    }
   ],
   "source": [
    "plsr.x_weights_.shape"
   ]
  },
  {
   "cell_type": "code",
   "execution_count": 34,
   "metadata": {},
   "outputs": [
    {
     "data": {
      "text/plain": [
       "Text(0, 0.5, 'Scores on LV 2')"
      ]
     },
     "execution_count": 34,
     "metadata": {},
     "output_type": "execute_result"
    },
    {
     "data": {
      "image/png": "[encoded data removed]",
      "text/plain": [
       "<Figure size 432x432 with 1 Axes>"
      ]
     },
     "metadata": {
      "needs_background": "light"
     },
     "output_type": "display_data"
    }
   ],
   "source": [
    "scores = pd.DataFrame(plsr.x_scores_)\n",
    "\n",
    "ax = scores.plot(x=0, y=1, kind='scatter', s=50, alpha=0.7,figsize=(6,6))\n",
    "\n",
    "ax.set_xlabel('Scores on LV 1')\n",
    "ax.set_ylabel('Scores on LV 2')"
   ]
  },
  {
   "cell_type": "code",
   "execution_count": null,
   "metadata": {},
   "outputs": [],
   "source": []
  }
 ],
 "metadata": {
  "kernelspec": {
   "display_name": "Python 3",
   "language": "python",
   "name": "python3"
  },
  "language_info": {
   "codemirror_mode": {
    "name": "ipython",
    "version": 3
   },
   "file_extension": ".py",
   "mimetype": "text/x-python",
   "name": "python",
   "nbconvert_exporter": "python",
   "pygments_lexer": "ipython3",
   "version": "3.7.3"
  }
 },
 "nbformat": 4,
 "nbformat_minor": 2
}
