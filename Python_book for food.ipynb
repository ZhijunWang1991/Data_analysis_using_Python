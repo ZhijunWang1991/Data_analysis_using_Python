{
 "cells": [
  {
   "cell_type": "code",
   "execution_count": 3,
   "metadata": {},
   "outputs": [],
   "source": [
    "import pandas as pd\n",
    "import numpy as np\n",
    "import matplotlib.pyplot as plt\n",
    "import seaborn as sns\n",
    "\n",
    "from scipy.signal import savgol_filter\n",
    "from sklearn.decomposition import PCA as sk_pca\n",
    "\n",
    "from sklearn.preprocessing import StandardScaler\n",
    "\n",
    "from scipy.signal import savgol_filter, general_gaussian\n",
    "\n",
    "from sklearn.decomposition import PCA\n",
    "import os as os"
   ]
  },
  {
   "cell_type": "code",
   "execution_count": 4,
   "metadata": {},
   "outputs": [],
   "source": [
    "## Set workspace\n",
    "os.chdir('/Data_analysis_using_Python/Opendata')"
   ]
  },
  {
   "cell_type": "code",
   "execution_count": 5,
   "metadata": {},
   "outputs": [],
   "source": [
    "df = pd.read_csv(\"FTIR_Spectra_olive_oils.csv\")"
   ]
  },
  {
   "cell_type": "code",
   "execution_count": 6,
   "metadata": {},
   "outputs": [
    {
     "data": {
      "text/html": [
       "<div>\n",
       "<style scoped>\n",
       "    .dataframe tbody tr th:only-of-type {\n",
       "        vertical-align: middle;\n",
       "    }\n",
       "\n",
       "    .dataframe tbody tr th {\n",
       "        vertical-align: top;\n",
       "    }\n",
       "\n",
       "    .dataframe thead th {\n",
       "        text-align: right;\n",
       "    }\n",
       "</style>\n",
       "<table border=\"1\" class=\"dataframe\">\n",
       "  <thead>\n",
       "    <tr style=\"text-align: right;\">\n",
       "      <th></th>\n",
       "      <th>Number</th>\n",
       "      <th>Group</th>\n",
       "      <th>Countries</th>\n",
       "      <th>808.5395</th>\n",
       "      <th>810.469</th>\n",
       "      <th>812.3985</th>\n",
       "      <th>814.328</th>\n",
       "      <th>816.2575</th>\n",
       "      <th>818.187</th>\n",
       "      <th>820.1165</th>\n",
       "      <th>...</th>\n",
       "      <th>1869.7935</th>\n",
       "      <th>1871.723</th>\n",
       "      <th>1873.6535</th>\n",
       "      <th>1875.583</th>\n",
       "      <th>1877.5125</th>\n",
       "      <th>1879.442</th>\n",
       "      <th>1881.3715</th>\n",
       "      <th>1883.301</th>\n",
       "      <th>1885.2305</th>\n",
       "      <th>1887.16</th>\n",
       "    </tr>\n",
       "  </thead>\n",
       "  <tbody>\n",
       "    <tr>\n",
       "      <th>0</th>\n",
       "      <td>1</td>\n",
       "      <td>1</td>\n",
       "      <td>Greece</td>\n",
       "      <td>0.103753</td>\n",
       "      <td>0.102204</td>\n",
       "      <td>0.092835</td>\n",
       "      <td>0.080931</td>\n",
       "      <td>0.072028</td>\n",
       "      <td>0.070530</td>\n",
       "      <td>0.075836</td>\n",
       "      <td>...</td>\n",
       "      <td>-0.001227</td>\n",
       "      <td>0.001822</td>\n",
       "      <td>0.003450</td>\n",
       "      <td>0.003179</td>\n",
       "      <td>0.002408</td>\n",
       "      <td>0.002580</td>\n",
       "      <td>0.003744</td>\n",
       "      <td>0.003461</td>\n",
       "      <td>0.002774</td>\n",
       "      <td>0.002253</td>\n",
       "    </tr>\n",
       "    <tr>\n",
       "      <th>1</th>\n",
       "      <td>1</td>\n",
       "      <td>1</td>\n",
       "      <td>Greece</td>\n",
       "      <td>0.100083</td>\n",
       "      <td>0.100176</td>\n",
       "      <td>0.092805</td>\n",
       "      <td>0.081545</td>\n",
       "      <td>0.072372</td>\n",
       "      <td>0.070033</td>\n",
       "      <td>0.075910</td>\n",
       "      <td>...</td>\n",
       "      <td>-0.000533</td>\n",
       "      <td>0.003187</td>\n",
       "      <td>0.004933</td>\n",
       "      <td>0.005599</td>\n",
       "      <td>0.005409</td>\n",
       "      <td>0.004715</td>\n",
       "      <td>0.004165</td>\n",
       "      <td>0.002345</td>\n",
       "      <td>0.000598</td>\n",
       "      <td>-0.000700</td>\n",
       "    </tr>\n",
       "    <tr>\n",
       "      <th>2</th>\n",
       "      <td>2</td>\n",
       "      <td>1</td>\n",
       "      <td>Greece</td>\n",
       "      <td>0.098488</td>\n",
       "      <td>0.095551</td>\n",
       "      <td>0.086662</td>\n",
       "      <td>0.076001</td>\n",
       "      <td>0.069760</td>\n",
       "      <td>0.070162</td>\n",
       "      <td>0.076346</td>\n",
       "      <td>...</td>\n",
       "      <td>-0.000571</td>\n",
       "      <td>0.002750</td>\n",
       "      <td>0.002734</td>\n",
       "      <td>0.002093</td>\n",
       "      <td>0.002579</td>\n",
       "      <td>0.003089</td>\n",
       "      <td>0.003454</td>\n",
       "      <td>0.003874</td>\n",
       "      <td>0.003860</td>\n",
       "      <td>0.002053</td>\n",
       "    </tr>\n",
       "    <tr>\n",
       "      <th>3</th>\n",
       "      <td>2</td>\n",
       "      <td>1</td>\n",
       "      <td>Greece</td>\n",
       "      <td>0.097094</td>\n",
       "      <td>0.094137</td>\n",
       "      <td>0.086487</td>\n",
       "      <td>0.077987</td>\n",
       "      <td>0.072729</td>\n",
       "      <td>0.072255</td>\n",
       "      <td>0.076293</td>\n",
       "      <td>...</td>\n",
       "      <td>-0.002233</td>\n",
       "      <td>0.000554</td>\n",
       "      <td>0.003724</td>\n",
       "      <td>0.004299</td>\n",
       "      <td>0.003683</td>\n",
       "      <td>0.003953</td>\n",
       "      <td>0.004128</td>\n",
       "      <td>0.002877</td>\n",
       "      <td>0.001644</td>\n",
       "      <td>0.000653</td>\n",
       "    </tr>\n",
       "    <tr>\n",
       "      <th>4</th>\n",
       "      <td>3</td>\n",
       "      <td>1</td>\n",
       "      <td>Greece</td>\n",
       "      <td>0.098733</td>\n",
       "      <td>0.097378</td>\n",
       "      <td>0.089574</td>\n",
       "      <td>0.080488</td>\n",
       "      <td>0.073952</td>\n",
       "      <td>0.072044</td>\n",
       "      <td>0.075082</td>\n",
       "      <td>...</td>\n",
       "      <td>-0.000705</td>\n",
       "      <td>0.003248</td>\n",
       "      <td>0.005718</td>\n",
       "      <td>0.005902</td>\n",
       "      <td>0.004614</td>\n",
       "      <td>0.003489</td>\n",
       "      <td>0.002996</td>\n",
       "      <td>0.001952</td>\n",
       "      <td>0.001568</td>\n",
       "      <td>0.001747</td>\n",
       "    </tr>\n",
       "  </tbody>\n",
       "</table>\n",
       "<p>5 rows × 563 columns</p>\n",
       "</div>"
      ],
      "text/plain": [
       "   Number  Group Countries  808.5395   810.469  812.3985   814.328  816.2575  \\\n",
       "0       1      1    Greece  0.103753  0.102204  0.092835  0.080931  0.072028   \n",
       "1       1      1    Greece  0.100083  0.100176  0.092805  0.081545  0.072372   \n",
       "2       2      1    Greece  0.098488  0.095551  0.086662  0.076001  0.069760   \n",
       "3       2      1    Greece  0.097094  0.094137  0.086487  0.077987  0.072729   \n",
       "4       3      1    Greece  0.098733  0.097378  0.089574  0.080488  0.073952   \n",
       "\n",
       "    818.187  820.1165  ...  1869.7935  1871.723  1873.6535  1875.583  \\\n",
       "0  0.070530  0.075836  ...  -0.001227  0.001822   0.003450  0.003179   \n",
       "1  0.070033  0.075910  ...  -0.000533  0.003187   0.004933  0.005599   \n",
       "2  0.070162  0.076346  ...  -0.000571  0.002750   0.002734  0.002093   \n",
       "3  0.072255  0.076293  ...  -0.002233  0.000554   0.003724  0.004299   \n",
       "4  0.072044  0.075082  ...  -0.000705  0.003248   0.005718  0.005902   \n",
       "\n",
       "   1877.5125  1879.442  1881.3715  1883.301  1885.2305   1887.16  \n",
       "0   0.002408  0.002580   0.003744  0.003461   0.002774  0.002253  \n",
       "1   0.005409  0.004715   0.004165  0.002345   0.000598 -0.000700  \n",
       "2   0.002579  0.003089   0.003454  0.003874   0.003860  0.002053  \n",
       "3   0.003683  0.003953   0.004128  0.002877   0.001644  0.000653  \n",
       "4   0.004614  0.003489   0.002996  0.001952   0.001568  0.001747  \n",
       "\n",
       "[5 rows x 563 columns]"
      ]
     },
     "execution_count": 6,
     "metadata": {},
     "output_type": "execute_result"
    }
   ],
   "source": [
    "df.head()"
   ]
  },
  {
   "cell_type": "code",
   "execution_count": 7,
   "metadata": {},
   "outputs": [],
   "source": [
    "wl = pd.read_csv('wavelength.csv')"
   ]
  },
  {
   "cell_type": "code",
   "execution_count": 8,
   "metadata": {},
   "outputs": [],
   "source": [
    "oil = df.values[:,4:].astype(str).astype(float)"
   ]
  },
  {
   "cell_type": "code",
   "execution_count": null,
   "metadata": {},
   "outputs": [],
   "source": [
    "## Discover and Visualize the Data to Gain Insights"
   ]
  },
  {
   "cell_type": "code",
   "execution_count": 9,
   "metadata": {},
   "outputs": [],
   "source": [
    "## MSC function\n",
    "## https://nirpyresearch.com/two-scatter-correction-techniques-nir-spectroscopy-python/\n",
    "def msc(input_data, reference=None):\n",
    "    ''' Perform Multiplicative scatter correction'''\n",
    " \n",
    "    # mean centre correction\n",
    "    for i in range(input_data.shape[0]):\n",
    "        input_data[i,:] -= input_data[i,:].mean()\n",
    " \n",
    "    # Get the reference spectrum. If not given, estimate it from the mean    \n",
    "    if reference is None:    \n",
    "        # Calculate mean\n",
    "        ref = np.mean(input_data, axis=0)\n",
    "    else:\n",
    "        ref = reference\n",
    " \n",
    "    # Define a new array and populate it with the corrected data    \n",
    "    data_msc = np.zeros_like(input_data)\n",
    "    for i in range(input_data.shape[0]):\n",
    "        # Run regression\n",
    "        fit = np.polyfit(ref, input_data[i,:], 1, full=True)\n",
    "        # Apply correction\n",
    "        data_msc[i,:] = (input_data[i,:] - fit[0][1]) / fit[0][0] \n",
    " \n",
    "    return (data_msc, ref)\n"
   ]
  },
  {
   "cell_type": "code",
   "execution_count": 10,
   "metadata": {},
   "outputs": [],
   "source": [
    "# SNV function\n",
    "\n",
    "def snv(input_data):\n",
    "  \n",
    "    # Define a new array and populate it with the corrected data  \n",
    "    output_data = np.zeros_like(input_data)\n",
    "    for i in range(input_data.shape[0]):\n",
    " \n",
    "        # Apply correction\n",
    "        output_data[i,:] = (input_data[i,:] - np.mean(input_data[i,:])) / np.std(input_data[i,:])\n",
    " \n",
    "    return output_data"
   ]
  },
  {
   "cell_type": "code",
   "execution_count": 11,
   "metadata": {},
   "outputs": [],
   "source": [
    "## Data pre-processing\n",
    "\n",
    "oil_msc = msc(oil)[0]\n",
    "\n",
    "oil_snv = snv(oil)\n",
    "\n",
    "\n",
    "w = 5\n",
    "p = 2\n",
    "oil_sg = savgol_filter(oil, w, polyorder = p, deriv=1)"
   ]
  },
  {
   "cell_type": "code",
   "execution_count": 12,
   "metadata": {},
   "outputs": [],
   "source": [
    "## The NIR spectral of oil samples"
   ]
  },
  {
   "cell_type": "code",
   "execution_count": 13,
   "metadata": {},
   "outputs": [
    {
     "data": {
      "image/png": "[encoded data removed]",
      "text/plain": [
       "<Figure size 576x432 with 1 Axes>"
      ]
     },
     "metadata": {
      "needs_background": "light"
     },
     "output_type": "display_data"
    }
   ],
   "source": [
    "plt.figure(figsize=(8,6))\n",
    "with plt.style.context(('ggplot')):\n",
    "    \n",
    "    plt.plot(wl, oil.T)\n",
    "    plt.title('Raw-oil')"
   ]
  },
  {
   "cell_type": "code",
   "execution_count": 14,
   "metadata": {},
   "outputs": [
    {
     "data": {
      "image/png": "[encoded data removed]",
      "text/plain": [
       "<Figure size 576x432 with 1 Axes>"
      ]
     },
     "metadata": {
      "needs_background": "light"
     },
     "output_type": "display_data"
    }
   ],
   "source": [
    "plt.figure(figsize=(8,6))\n",
    "with plt.style.context(('ggplot')):\n",
    "    \n",
    "    plt.plot(wl, oil_msc.T)\n",
    "    plt.title('MSC-oil')"
   ]
  },
  {
   "cell_type": "code",
   "execution_count": 15,
   "metadata": {},
   "outputs": [
    {
     "data": {
      "image/png": "[encoded data removed]",
      "text/plain": [
       "<Figure size 576x432 with 1 Axes>"
      ]
     },
     "metadata": {
      "needs_background": "light"
     },
     "output_type": "display_data"
    }
   ],
   "source": [
    "plt.figure(figsize=(8,6))\n",
    "with plt.style.context(('ggplot')):\n",
    "    \n",
    "    plt.plot(wl, oil_sg.T)\n",
    "    plt.title('SG-oil')"
   ]
  },
  {
   "cell_type": "code",
   "execution_count": 16,
   "metadata": {},
   "outputs": [],
   "source": [
    "##PCA plots for oil from different countries"
   ]
  },
  {
   "cell_type": "code",
   "execution_count": 17,
   "metadata": {},
   "outputs": [
    {
     "name": "stdout",
     "output_type": "stream",
     "text": [
      "Explained variation per principal component: [0.46136459 0.25205812 0.05787595]\n"
     ]
    }
   ],
   "source": [
    "pca_oil = PCA(n_components=3)\n",
    "principalComponents_oil = pca_oil.fit_transform(oil_msc)\n",
    "\n",
    "principal_oil_Df = pd.DataFrame(data = principalComponents_oil, columns = ['principal component 1','principal component 2', 'principal component 3'])\n",
    "\n",
    "principal_oil_Df.tail()\n",
    "\n",
    "print('Explained variation per principal component: {}'.format(pca_oil.explained_variance_ratio_))\n"
   ]
  },
  {
   "cell_type": "code",
   "execution_count": 18,
   "metadata": {},
   "outputs": [
    {
     "data": {
      "text/plain": [
       "<matplotlib.legend.Legend at 0x1f975423a90>"
      ]
     },
     "execution_count": 18,
     "metadata": {},
     "output_type": "execute_result"
    },
    {
     "data": {
      "text/plain": [
       "<Figure size 432x288 with 0 Axes>"
      ]
     },
     "metadata": {},
     "output_type": "display_data"
    },
    {
     "data": {
      "image/png": "[encoded data removed]",
      "text/plain": [
       "<Figure size 720x720 with 1 Axes>"
      ]
     },
     "metadata": {
      "needs_background": "light"
     },
     "output_type": "display_data"
    }
   ],
   "source": [
    "plt.figure()\n",
    "plt.figure(figsize=(10,10))\n",
    "plt.xticks(fontsize=12)\n",
    "plt.yticks(fontsize=14)\n",
    "plt.xlabel('PC1 46.1%',fontsize=20)\n",
    "plt.ylabel('PC2 25.2%',fontsize=20)\n",
    "plt.title(\"Principal Component Analysis of oil samples\",fontsize=26)\n",
    "\n",
    "targets = [\"Greece\",\"Italy\",\"Portugal\", \"Spain\"]\n",
    "colors = [\"#CD0000\", \"#008B45\", \"#000000\", \"#FF1493\"]\n",
    "for target, color in zip(targets,colors):\n",
    "    indicesToKeep = df['Countries'] == target\n",
    "    plt.scatter(principal_oil_Df.loc[indicesToKeep, 'principal component 1']\n",
    "               , principal_oil_Df.loc[indicesToKeep, 'principal component 2'], c = color, s = 50)\n",
    "\n",
    "plt.legend(targets,prop={'size': 15})\n"
   ]
  },
  {
   "cell_type": "code",
   "execution_count": 19,
   "metadata": {},
   "outputs": [],
   "source": [
    "##Linear Discriminant analysis"
   ]
  },
  {
   "cell_type": "code",
   "execution_count": 20,
   "metadata": {},
   "outputs": [],
   "source": [
    "import pandas as pd\n",
    "from sklearn.discriminant_analysis import LinearDiscriminantAnalysis as LDA\n",
    "from sklearn.model_selection import train_test_split, cross_val_score"
   ]
  },
  {
   "cell_type": "code",
   "execution_count": 21,
   "metadata": {},
   "outputs": [],
   "source": [
    "df = pd.read_csv(\"FTIR_Spectra_olive_oils.csv\")"
   ]
  },
  {
   "cell_type": "code",
   "execution_count": 22,
   "metadata": {},
   "outputs": [],
   "source": [
    "y = df.values[:,1].astype('uint8')\n",
    "X = df.values[:,3:]"
   ]
  },
  {
   "cell_type": "code",
   "execution_count": 34,
   "metadata": {},
   "outputs": [
    {
     "name": "stdout",
     "output_type": "stream",
     "text": [
      "0.9666666666666667\n"
     ]
    },
    {
     "name": "stderr",
     "output_type": "stream",
     "text": [
      "C:\\ProgramData\\Anaconda3\\lib\\site-packages\\sklearn\\discriminant_analysis.py:388: UserWarning: Variables are collinear.\n",
      "  warnings.warn(\"Variables are collinear.\")\n"
     ]
    }
   ],
   "source": [
    "X_train, X_test, y_train, y_test = train_test_split(X, y, test_size=0.25, random_state=2)\n",
    " \n",
    "lda = LDA()\n",
    "lda.fit(X_train,y_train)\n",
    " \n",
    "y_pred = lda.predict(X_test)\n",
    "\n",
    "##The LDA accuracy is \n",
    "\n",
    "print(lda.score(X_test,y_test))"
   ]
  },
  {
   "cell_type": "code",
   "execution_count": 55,
   "metadata": {},
   "outputs": [
    {
     "name": "stdout",
     "output_type": "stream",
     "text": [
      "Accuracy: 0.9171 (+/- 0.1112)\n"
     ]
    },
    {
     "name": "stderr",
     "output_type": "stream",
     "text": [
      "C:\\ProgramData\\Anaconda3\\lib\\site-packages\\sklearn\\discriminant_analysis.py:388: UserWarning: Variables are collinear.\n",
      "  warnings.warn(\"Variables are collinear.\")\n",
      "C:\\ProgramData\\Anaconda3\\lib\\site-packages\\sklearn\\discriminant_analysis.py:388: UserWarning: Variables are collinear.\n",
      "  warnings.warn(\"Variables are collinear.\")\n",
      "C:\\ProgramData\\Anaconda3\\lib\\site-packages\\sklearn\\discriminant_analysis.py:388: UserWarning: Variables are collinear.\n",
      "  warnings.warn(\"Variables are collinear.\")\n",
      "C:\\ProgramData\\Anaconda3\\lib\\site-packages\\sklearn\\discriminant_analysis.py:388: UserWarning: Variables are collinear.\n",
      "  warnings.warn(\"Variables are collinear.\")\n"
     ]
    }
   ],
   "source": [
    "scores = cross_val_score(LDA(), X, y, cv=4)\n",
    "print(\"Accuracy: %0.4f (+/- %0.4f)\" % (scores.mean(), scores.std() * 2))"
   ]
  },
  {
   "cell_type": "code",
   "execution_count": 35,
   "metadata": {},
   "outputs": [],
   "source": [
    "## Prepare the Data for Machine Learning Algorithms"
   ]
  },
  {
   "cell_type": "code",
   "execution_count": 36,
   "metadata": {},
   "outputs": [],
   "source": [
    "## Transformation were did in data ploting therrefore the Oil-SG traformation were used for following ML"
   ]
  },
  {
   "cell_type": "code",
   "execution_count": 54,
   "metadata": {},
   "outputs": [],
   "source": [
    "label = df.loc[:, \"Group\"]\n",
    "data = pd.DataFrame(oil_sg)"
   ]
  },
  {
   "cell_type": "code",
   "execution_count": 52,
   "metadata": {},
   "outputs": [
    {
     "data": {
      "text/html": [
       "<div>\n",
       "<style scoped>\n",
       "    .dataframe tbody tr th:only-of-type {\n",
       "        vertical-align: middle;\n",
       "    }\n",
       "\n",
       "    .dataframe tbody tr th {\n",
       "        vertical-align: top;\n",
       "    }\n",
       "\n",
       "    .dataframe thead th {\n",
       "        text-align: right;\n",
       "    }\n",
       "</style>\n",
       "<table border=\"1\" class=\"dataframe\">\n",
       "  <thead>\n",
       "    <tr style=\"text-align: right;\">\n",
       "      <th></th>\n",
       "      <th>0</th>\n",
       "      <th>1</th>\n",
       "      <th>2</th>\n",
       "      <th>3</th>\n",
       "      <th>4</th>\n",
       "      <th>5</th>\n",
       "      <th>6</th>\n",
       "      <th>7</th>\n",
       "      <th>8</th>\n",
       "      <th>9</th>\n",
       "      <th>...</th>\n",
       "      <th>549</th>\n",
       "      <th>550</th>\n",
       "      <th>551</th>\n",
       "      <th>552</th>\n",
       "      <th>553</th>\n",
       "      <th>554</th>\n",
       "      <th>555</th>\n",
       "      <th>556</th>\n",
       "      <th>557</th>\n",
       "      <th>558</th>\n",
       "    </tr>\n",
       "  </thead>\n",
       "  <tbody>\n",
       "    <tr>\n",
       "      <th>0</th>\n",
       "      <td>-0.013771</td>\n",
       "      <td>-0.011093</td>\n",
       "      <td>-0.008415</td>\n",
       "      <td>-0.004440</td>\n",
       "      <td>0.001227</td>\n",
       "      <td>0.006254</td>\n",
       "      <td>0.008912</td>\n",
       "      <td>0.008953</td>\n",
       "      <td>0.007289</td>\n",
       "      <td>0.005425</td>\n",
       "      <td>...</td>\n",
       "      <td>0.002521</td>\n",
       "      <td>0.001917</td>\n",
       "      <td>0.000863</td>\n",
       "      <td>0.000048</td>\n",
       "      <td>-0.000001</td>\n",
       "      <td>0.000190</td>\n",
       "      <td>0.000161</td>\n",
       "      <td>-0.000162</td>\n",
       "      <td>-0.000702</td>\n",
       "      <td>-0.001241</td>\n",
       "    </tr>\n",
       "    <tr>\n",
       "      <th>1</th>\n",
       "      <td>-0.011543</td>\n",
       "      <td>-0.009808</td>\n",
       "      <td>-0.008072</td>\n",
       "      <td>-0.004530</td>\n",
       "      <td>0.001391</td>\n",
       "      <td>0.006788</td>\n",
       "      <td>0.009309</td>\n",
       "      <td>0.008388</td>\n",
       "      <td>0.005720</td>\n",
       "      <td>0.003732</td>\n",
       "      <td>...</td>\n",
       "      <td>0.003249</td>\n",
       "      <td>0.002605</td>\n",
       "      <td>0.001430</td>\n",
       "      <td>0.000353</td>\n",
       "      <td>-0.000242</td>\n",
       "      <td>-0.000775</td>\n",
       "      <td>-0.001199</td>\n",
       "      <td>-0.001440</td>\n",
       "      <td>-0.001643</td>\n",
       "      <td>-0.001846</td>\n",
       "    </tr>\n",
       "    <tr>\n",
       "      <th>2</th>\n",
       "      <td>-0.013340</td>\n",
       "      <td>-0.010054</td>\n",
       "      <td>-0.006768</td>\n",
       "      <td>-0.002647</td>\n",
       "      <td>0.002881</td>\n",
       "      <td>0.007588</td>\n",
       "      <td>0.010036</td>\n",
       "      <td>0.009524</td>\n",
       "      <td>0.006893</td>\n",
       "      <td>0.004179</td>\n",
       "      <td>...</td>\n",
       "      <td>0.003016</td>\n",
       "      <td>0.001813</td>\n",
       "      <td>0.000564</td>\n",
       "      <td>0.000052</td>\n",
       "      <td>0.000244</td>\n",
       "      <td>0.000444</td>\n",
       "      <td>0.000335</td>\n",
       "      <td>-0.000167</td>\n",
       "      <td>-0.000849</td>\n",
       "      <td>-0.001532</td>\n",
       "    </tr>\n",
       "    <tr>\n",
       "      <th>3</th>\n",
       "      <td>-0.010779</td>\n",
       "      <td>-0.008266</td>\n",
       "      <td>-0.005752</td>\n",
       "      <td>-0.002612</td>\n",
       "      <td>0.001880</td>\n",
       "      <td>0.006330</td>\n",
       "      <td>0.009046</td>\n",
       "      <td>0.008996</td>\n",
       "      <td>0.006843</td>\n",
       "      <td>0.004610</td>\n",
       "      <td>...</td>\n",
       "      <td>0.002337</td>\n",
       "      <td>0.002219</td>\n",
       "      <td>0.001558</td>\n",
       "      <td>0.000676</td>\n",
       "      <td>0.000046</td>\n",
       "      <td>-0.000240</td>\n",
       "      <td>-0.000515</td>\n",
       "      <td>-0.000908</td>\n",
       "      <td>-0.001239</td>\n",
       "      <td>-0.001570</td>\n",
       "    </tr>\n",
       "    <tr>\n",
       "      <th>4</th>\n",
       "      <td>-0.010726</td>\n",
       "      <td>-0.008678</td>\n",
       "      <td>-0.006629</td>\n",
       "      <td>-0.003743</td>\n",
       "      <td>0.000486</td>\n",
       "      <td>0.004738</td>\n",
       "      <td>0.007733</td>\n",
       "      <td>0.008400</td>\n",
       "      <td>0.007096</td>\n",
       "      <td>0.005488</td>\n",
       "      <td>...</td>\n",
       "      <td>0.003271</td>\n",
       "      <td>0.002669</td>\n",
       "      <td>0.001329</td>\n",
       "      <td>-0.000062</td>\n",
       "      <td>-0.000786</td>\n",
       "      <td>-0.000952</td>\n",
       "      <td>-0.000763</td>\n",
       "      <td>-0.000491</td>\n",
       "      <td>-0.000205</td>\n",
       "      <td>0.000081</td>\n",
       "    </tr>\n",
       "  </tbody>\n",
       "</table>\n",
       "<p>5 rows × 559 columns</p>\n",
       "</div>"
      ],
      "text/plain": [
       "        0         1         2         3         4         5         6    \\\n",
       "0 -0.013771 -0.011093 -0.008415 -0.004440  0.001227  0.006254  0.008912   \n",
       "1 -0.011543 -0.009808 -0.008072 -0.004530  0.001391  0.006788  0.009309   \n",
       "2 -0.013340 -0.010054 -0.006768 -0.002647  0.002881  0.007588  0.010036   \n",
       "3 -0.010779 -0.008266 -0.005752 -0.002612  0.001880  0.006330  0.009046   \n",
       "4 -0.010726 -0.008678 -0.006629 -0.003743  0.000486  0.004738  0.007733   \n",
       "\n",
       "        7         8         9    ...       549       550       551       552  \\\n",
       "0  0.008953  0.007289  0.005425  ...  0.002521  0.001917  0.000863  0.000048   \n",
       "1  0.008388  0.005720  0.003732  ...  0.003249  0.002605  0.001430  0.000353   \n",
       "2  0.009524  0.006893  0.004179  ...  0.003016  0.001813  0.000564  0.000052   \n",
       "3  0.008996  0.006843  0.004610  ...  0.002337  0.002219  0.001558  0.000676   \n",
       "4  0.008400  0.007096  0.005488  ...  0.003271  0.002669  0.001329 -0.000062   \n",
       "\n",
       "        553       554       555       556       557       558  \n",
       "0 -0.000001  0.000190  0.000161 -0.000162 -0.000702 -0.001241  \n",
       "1 -0.000242 -0.000775 -0.001199 -0.001440 -0.001643 -0.001846  \n",
       "2  0.000244  0.000444  0.000335 -0.000167 -0.000849 -0.001532  \n",
       "3  0.000046 -0.000240 -0.000515 -0.000908 -0.001239 -0.001570  \n",
       "4 -0.000786 -0.000952 -0.000763 -0.000491 -0.000205  0.000081  \n",
       "\n",
       "[5 rows x 559 columns]"
      ]
     },
     "execution_count": 52,
     "metadata": {},
     "output_type": "execute_result"
    }
   ],
   "source": [
    "data.head()"
   ]
  },
  {
   "cell_type": "code",
   "execution_count": 39,
   "metadata": {},
   "outputs": [],
   "source": [
    "## Training and Evaluating on the Training Set"
   ]
  },
  {
   "cell_type": "code",
   "execution_count": 55,
   "metadata": {},
   "outputs": [
    {
     "data": {
      "text/plain": [
       "0      1\n",
       "1      1\n",
       "2      1\n",
       "3      1\n",
       "4      1\n",
       "5      1\n",
       "6      1\n",
       "7      1\n",
       "8      1\n",
       "9      1\n",
       "10     1\n",
       "11     1\n",
       "12     1\n",
       "13     1\n",
       "14     1\n",
       "15     1\n",
       "16     1\n",
       "17     1\n",
       "18     1\n",
       "19     1\n",
       "20     2\n",
       "21     2\n",
       "22     2\n",
       "23     2\n",
       "24     2\n",
       "25     2\n",
       "26     2\n",
       "27     2\n",
       "28     2\n",
       "29     2\n",
       "      ..\n",
       "90     4\n",
       "91     4\n",
       "92     4\n",
       "93     4\n",
       "94     4\n",
       "95     4\n",
       "96     4\n",
       "97     4\n",
       "98     4\n",
       "99     4\n",
       "100    4\n",
       "101    4\n",
       "102    4\n",
       "103    4\n",
       "104    4\n",
       "105    4\n",
       "106    4\n",
       "107    4\n",
       "108    4\n",
       "109    4\n",
       "110    4\n",
       "111    4\n",
       "112    4\n",
       "113    4\n",
       "114    4\n",
       "115    4\n",
       "116    4\n",
       "117    4\n",
       "118    4\n",
       "119    4\n",
       "Name: Group, Length: 120, dtype: int64"
      ]
     },
     "execution_count": 55,
     "metadata": {},
     "output_type": "execute_result"
    }
   ],
   "source": [
    "label"
   ]
  },
  {
   "cell_type": "code",
   "execution_count": 56,
   "metadata": {},
   "outputs": [
    {
     "data": {
      "text/plain": [
       "LinearRegression(copy_X=True, fit_intercept=True, n_jobs=None,\n",
       "         normalize=False)"
      ]
     },
     "execution_count": 56,
     "metadata": {},
     "output_type": "execute_result"
    }
   ],
   "source": [
    "from sklearn.linear_model import LinearRegression\n",
    "lin_reg = LinearRegression()\n",
    "lin_reg.fit(data, label)"
   ]
  },
  {
   "cell_type": "code",
   "execution_count": 57,
   "metadata": {},
   "outputs": [],
   "source": [
    "## Now there is a working Linear Regression model. Let’s try to use it to predict the country based on NIR data:"
   ]
  },
  {
   "cell_type": "code",
   "execution_count": 63,
   "metadata": {},
   "outputs": [],
   "source": [
    "test_data = data.iloc[1:30,:]"
   ]
  },
  {
   "cell_type": "code",
   "execution_count": 64,
   "metadata": {},
   "outputs": [],
   "source": [
    "test_label = label.iloc[1:30]"
   ]
  },
  {
   "cell_type": "code",
   "execution_count": 65,
   "metadata": {},
   "outputs": [
    {
     "name": "stdout",
     "output_type": "stream",
     "text": [
      "Predictions: [1. 1. 1. 1. 1. 1. 1. 1. 1. 1. 1. 1. 1. 1. 1. 1. 1. 1. 1. 2. 2. 2. 2. 2.\n",
      " 2. 2. 2. 2. 2.]\n"
     ]
    }
   ],
   "source": [
    "print(\"Predictions:\", lin_reg.predict(test_data))"
   ]
  },
  {
   "cell_type": "code",
   "execution_count": 66,
   "metadata": {},
   "outputs": [
    {
     "data": {
      "text/plain": [
       "1     1\n",
       "2     1\n",
       "3     1\n",
       "4     1\n",
       "5     1\n",
       "6     1\n",
       "7     1\n",
       "8     1\n",
       "9     1\n",
       "10    1\n",
       "11    1\n",
       "12    1\n",
       "13    1\n",
       "14    1\n",
       "15    1\n",
       "16    1\n",
       "17    1\n",
       "18    1\n",
       "19    1\n",
       "20    2\n",
       "21    2\n",
       "22    2\n",
       "23    2\n",
       "24    2\n",
       "25    2\n",
       "26    2\n",
       "27    2\n",
       "28    2\n",
       "29    2\n",
       "Name: Group, dtype: int64"
      ]
     },
     "execution_count": 66,
     "metadata": {},
     "output_type": "execute_result"
    }
   ],
   "source": [
    "test_label"
   ]
  },
  {
   "cell_type": "code",
   "execution_count": 67,
   "metadata": {},
   "outputs": [],
   "source": [
    "## Measure this regression model’s RMSE on the whole training set using Scikit-Learn’s mean_squared_error function"
   ]
  },
  {
   "cell_type": "code",
   "execution_count": 68,
   "metadata": {},
   "outputs": [
    {
     "data": {
      "text/plain": [
       "2.0998110755292505e-14"
      ]
     },
     "execution_count": 68,
     "metadata": {},
     "output_type": "execute_result"
    }
   ],
   "source": [
    "from sklearn.metrics import mean_squared_error\n",
    "group_predictions = lin_reg.predict(data)\n",
    "lin_mse = mean_squared_error(label, group_predictions)\n",
    "lin_rmse = np.sqrt(lin_mse)\n",
    "lin_rmse"
   ]
  },
  {
   "cell_type": "code",
   "execution_count": 69,
   "metadata": {},
   "outputs": [],
   "source": [
    "## Results is good but we didnot use traing set and prediction set it imeans the data could be overfitted."
   ]
  },
  {
   "cell_type": "code",
   "execution_count": null,
   "metadata": {},
   "outputs": [],
   "source": []
  }
 ],
 "metadata": {
  "kernelspec": {
   "display_name": "Python 3",
   "language": "python",
   "name": "python3"
  },
  "language_info": {
   "codemirror_mode": {
    "name": "ipython",
    "version": 3
   },
   "file_extension": ".py",
   "mimetype": "text/x-python",
   "name": "python",
   "nbconvert_exporter": "python",
   "pygments_lexer": "ipython3",
   "version": "3.7.3"
  }
 },
 "nbformat": 4,
 "nbformat_minor": 2
}
